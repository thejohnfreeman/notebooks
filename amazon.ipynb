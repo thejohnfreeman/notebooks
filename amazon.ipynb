{
 "cells": [
  {
   "cell_type": "code",
   "execution_count": 1,
   "metadata": {
    "collapsed": false
   },
   "outputs": [],
   "source": [
    "import pandas as pd\n",
    "%matplotlib inline"
   ]
  },
  {
   "cell_type": "code",
   "execution_count": 2,
   "metadata": {
    "collapsed": true
   },
   "outputs": [],
   "source": [
    "def parse_dollars(dollars_str):\n",
    "    assert dollars_str[0] == '$'\n",
    "    return float(dollars_str[1:])"
   ]
  },
  {
   "cell_type": "code",
   "execution_count": 3,
   "metadata": {
    "collapsed": false
   },
   "outputs": [
    {
     "name": "stdout",
     "output_type": "stream",
     "text": [
      "<class 'pandas.core.frame.DataFrame'>\n",
      "DatetimeIndex: 300 entries, 2009-04-25 to 2016-02-18\n",
      "Data columns (total 35 columns):\n",
      "Order ID                          300 non-null object\n",
      "Title                             300 non-null object\n",
      "Category                          279 non-null object\n",
      "ASIN/ISBN                         300 non-null object\n",
      "UNSPSC Code                       256 non-null float64\n",
      "Website                           300 non-null object\n",
      "Release Date                      121 non-null object\n",
      "Condition                         300 non-null object\n",
      "Seller                            300 non-null object\n",
      "Seller Credentials                1 non-null object\n",
      "List Price Per Unit               300 non-null object\n",
      "Purchase Price Per Unit           300 non-null object\n",
      "Quantity                          300 non-null int64\n",
      "Payment Instrument Type           300 non-null object\n",
      "Purchase Order Number             0 non-null float64\n",
      "PO Line Number                    0 non-null float64\n",
      "Ordering Customer Email           300 non-null object\n",
      "Shipment Date                     299 non-null object\n",
      "Shipping Address Name             300 non-null object\n",
      "Shipping Address Street 1         300 non-null object\n",
      "Shipping Address Street 2         82 non-null object\n",
      "Shipping Address City             300 non-null object\n",
      "Shipping Address State            300 non-null object\n",
      "Shipping Address Zip              300 non-null object\n",
      "Order Status                      300 non-null object\n",
      "Carrier Name & Tracking Number    299 non-null object\n",
      "Item Subtotal                     300 non-null float64\n",
      "Item Subtotal Tax                 300 non-null object\n",
      "Item Total                        300 non-null float64\n",
      "Tax Exemption Applied             0 non-null float64\n",
      "Tax Exemption Type                0 non-null float64\n",
      "Exemption Opt-Out                 0 non-null float64\n",
      "Buyer Name                        300 non-null object\n",
      "Currency                          300 non-null object\n",
      "Group Name                        0 non-null float64\n",
      "dtypes: float64(9), int64(1), object(25)\n",
      "memory usage: 84.4+ KB\n"
     ]
    }
   ],
   "source": [
    "d = pd.read_csv('amazon.csv', parse_dates=['Order Date'], index_col='Order Date',\n",
    "               converters={\n",
    "        'Item Subtotal': parse_dollars,\n",
    "        'Item Total': parse_dollars,\n",
    "    })\n",
    "d.info()"
   ]
  },
  {
   "cell_type": "code",
   "execution_count": 4,
   "metadata": {
    "collapsed": false
   },
   "outputs": [
    {
     "data": {
      "text/html": [
       "<div>\n",
       "<table border=\"1\" class=\"dataframe\">\n",
       "  <thead>\n",
       "    <tr style=\"text-align: right;\">\n",
       "      <th></th>\n",
       "      <th>Item Subtotal</th>\n",
       "      <th>Item Total</th>\n",
       "    </tr>\n",
       "    <tr>\n",
       "      <th>year</th>\n",
       "      <th></th>\n",
       "      <th></th>\n",
       "    </tr>\n",
       "  </thead>\n",
       "  <tbody>\n",
       "    <tr>\n",
       "      <th>2009</th>\n",
       "      <td>166.07</td>\n",
       "      <td>166.07</td>\n",
       "    </tr>\n",
       "    <tr>\n",
       "      <th>2010</th>\n",
       "      <td>34.94</td>\n",
       "      <td>34.94</td>\n",
       "    </tr>\n",
       "    <tr>\n",
       "      <th>2011</th>\n",
       "      <td>270.32</td>\n",
       "      <td>270.32</td>\n",
       "    </tr>\n",
       "    <tr>\n",
       "      <th>2012</th>\n",
       "      <td>1730.77</td>\n",
       "      <td>1822.05</td>\n",
       "    </tr>\n",
       "    <tr>\n",
       "      <th>2013</th>\n",
       "      <td>2746.60</td>\n",
       "      <td>2908.60</td>\n",
       "    </tr>\n",
       "    <tr>\n",
       "      <th>2014</th>\n",
       "      <td>1936.17</td>\n",
       "      <td>2048.03</td>\n",
       "    </tr>\n",
       "    <tr>\n",
       "      <th>2015</th>\n",
       "      <td>6240.86</td>\n",
       "      <td>6664.90</td>\n",
       "    </tr>\n",
       "    <tr>\n",
       "      <th>2016</th>\n",
       "      <td>872.88</td>\n",
       "      <td>914.05</td>\n",
       "    </tr>\n",
       "  </tbody>\n",
       "</table>\n",
       "</div>"
      ],
      "text/plain": [
       "      Item Subtotal  Item Total\n",
       "year                           \n",
       "2009         166.07      166.07\n",
       "2010          34.94       34.94\n",
       "2011         270.32      270.32\n",
       "2012        1730.77     1822.05\n",
       "2013        2746.60     2908.60\n",
       "2014        1936.17     2048.03\n",
       "2015        6240.86     6664.90\n",
       "2016         872.88      914.05"
      ]
     },
     "execution_count": 4,
     "metadata": {},
     "output_type": "execute_result"
    }
   ],
   "source": [
    "ts = d[['Item Subtotal', 'Item Total']].copy()\n",
    "ts['year'] = ts.index.year\n",
    "tsby = ts.groupby('year').sum()\n",
    "tsby"
   ]
  },
  {
   "cell_type": "code",
   "execution_count": 5,
   "metadata": {
    "collapsed": false
   },
   "outputs": [
    {
     "data": {
      "text/plain": [
       "<matplotlib.axes._subplots.AxesSubplot at 0x10e57e748>"
      ]
     },
     "execution_count": 5,
     "metadata": {},
     "output_type": "execute_result"
    },
    {
     "data": {
      "image/png": "[encoded data removed]",
      "text/plain": [
       "<matplotlib.figure.Figure at 0x10e08d8d0>"
      ]
     },
     "metadata": {},
     "output_type": "display_data"
    }
   ],
   "source": [
    "tsby['Item Total'].plot(kind='bar')"
   ]
  }
 ],
 "metadata": {
  "kernelspec": {
   "display_name": "Python 3",
   "language": "python",
   "name": "python3"
  },
  "language_info": {
   "codemirror_mode": {
    "name": "ipython",
    "version": 3
   },
   "file_extension": ".py",
   "mimetype": "text/x-python",
   "name": "python",
   "nbconvert_exporter": "python",
   "pygments_lexer": "ipython3",
   "version": "3.5.1"
  }
 },
 "nbformat": 4,
 "nbformat_minor": 0
}
